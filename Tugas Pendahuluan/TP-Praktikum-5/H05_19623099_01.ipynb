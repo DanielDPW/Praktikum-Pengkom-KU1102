{
 "cells": [
  {
   "cell_type": "code",
   "execution_count": 1,
   "metadata": {},
   "outputs": [],
   "source": [
    "# NIM/Nama  :   Daniel Pedrosa Wu\n",
    "# Tanggal   :   10 November 2023\n",
    "# Deskripsi :   Problem 01 TP Modul 5"
   ]
  },
  {
   "cell_type": "markdown",
   "metadata": {},
   "source": [
    "Mengimport Pandas dan membuat dataframe dengan nama 'df' yang membaca \"H05.csv\""
   ]
  },
  {
   "cell_type": "code",
   "execution_count": 4,
   "metadata": {},
   "outputs": [],
   "source": [
    "import pandas as pd\n",
    "df = pd.read_csv(\"H05.csv\")"
   ]
  },
  {
   "cell_type": "markdown",
   "metadata": {},
   "source": [
    "1. Banyaknya data."
   ]
  },
  {
   "cell_type": "code",
   "execution_count": 14,
   "metadata": {},
   "outputs": [
    {
     "name": "stdout",
     "output_type": "stream",
     "text": [
      "Banyaknya data adalah 5135\n"
     ]
    }
   ],
   "source": [
    "print(\"Banyaknya data adalah\", len(df))"
   ]
  },
  {
   "cell_type": "markdown",
   "metadata": {},
   "source": [
    "2. 10 data pertama."
   ]
  },
  {
   "cell_type": "code",
   "execution_count": 7,
   "metadata": {},
   "outputs": [
    {
     "name": "stdout",
     "output_type": "stream",
     "text": [
      "10 data pertama\n",
      "                          nama fakultas  nilai_mat  nilai_kim  nilai_fis\n",
      "          Farhan Fathur Rahman    FMIPA      57.21      34.14      38.93\n",
      "                Steven Margono    FMIPA      67.43      51.50      57.20\n",
      "                  Ryan Sentosa    SAPPK      90.62      37.38      40.73\n",
      "          Muhajah Babny Muslim    FMIPA      72.31      38.80      44.79\n",
      "              Alvin Natawiguna     FTSL      65.45      57.67      56.39\n",
      "                 Sasti Safitri     FTSL      60.58      41.91      51.55\n",
      "           Dani Yulianto Putra     FTSL      51.67      35.05      48.69\n",
      "Nabila Febitsukarizky Bunyamin     FTTM      71.66      67.61      69.75\n",
      "           Ratna Siti Khodijah      FTI      73.06      59.16      59.48\n",
      "                  Gita Partiwi     FTSL      69.57      38.84      48.17\n"
     ]
    }
   ],
   "source": [
    "print(\"10 data pertama\")\n",
    "print(df[:10].to_string(index = False))"
   ]
  },
  {
   "cell_type": "markdown",
   "metadata": {},
   "source": [
    "3. Data ke 50 sampai 60 (inklusif: data ke-50, data ke-51, . . . , data ke-60)."
   ]
  },
  {
   "cell_type": "code",
   "execution_count": 16,
   "metadata": {},
   "outputs": [
    {
     "name": "stdout",
     "output_type": "stream",
     "text": [
      "Data ke 50 sampai 60\n",
      "                    nama fakultas  nilai_mat  nilai_kim  nilai_fis\n",
      "    Alief Rizky Ramadhan    SITHS      84.59      42.44      40.48\n",
      "    Arief Syakur Sutedjo     FTTM      84.40      61.21      73.91\n",
      "       Fayi Raihan Saleh    FMIPA      60.62      32.57      42.34\n",
      "        Erna Kristiawati      FTI      67.48      46.78      52.30\n",
      "                  Albert    SAPPK      70.27      50.10      54.01\n",
      "M Jazztyan Indra Pradana     STEI      53.40      43.06      60.30\n",
      "    Moch Ginanjar Busiri    FMIPA      74.29      38.44      49.15\n",
      "            Aisya Tamara     FITB      71.49      35.86      37.41\n",
      "      Tyas Arum Widayati    SAPPK      68.57      37.02      53.25\n",
      "              Arif Saleh      FTI     100.00      59.79      55.33\n",
      "   Windy Diwita Nisaekti      FTI      67.15      57.72      54.24\n"
     ]
    }
   ],
   "source": [
    "print(\"Data ke 50 sampai 60\")\n",
    "print(df[49:60].to_string(index = False))"
   ]
  },
  {
   "cell_type": "markdown",
   "metadata": {},
   "source": [
    "4. Banyaknya mahasiswa tiap fakultas."
   ]
  },
  {
   "cell_type": "code",
   "execution_count": 17,
   "metadata": {},
   "outputs": [
    {
     "name": "stdout",
     "output_type": "stream",
     "text": [
      "Banyaknya mahasiswa tiap fakultas: \n",
      "fakultas\n",
      "FTI      834\n",
      "STEI     777\n",
      "FTSL     660\n",
      "FMIPA    627\n",
      "FTTM     579\n",
      "FTMD     480\n",
      "FITB     403\n",
      "SAPPK    315\n",
      "SITHR    282\n",
      "SITHS    178\n"
     ]
    }
   ],
   "source": [
    "print(\"Banyaknya mahasiswa tiap fakultas: \")\n",
    "print(df[\"fakultas\"].value_counts().to_string())"
   ]
  },
  {
   "cell_type": "markdown",
   "metadata": {},
   "source": [
    "5. Nilai korelasi antara nilai Fisika dan Kimia. Apakah berkorelasi lurus, terbalik, atau tidak berkolerasi? Jelaskan."
   ]
  },
  {
   "cell_type": "code",
   "execution_count": 18,
   "metadata": {},
   "outputs": [
    {
     "name": "stdout",
     "output_type": "stream",
     "text": [
      "Nilai korelasi antara nilai Fisika dan nilai Kimia adalah 0.7988187423880274\n"
     ]
    }
   ],
   "source": [
    "print(\"Nilai korelasi antara nilai Fisika dan nilai Kimia adalah\",df[\"nilai_fis\"].corr(df[\"nilai_kim\"]))"
   ]
  },
  {
   "cell_type": "markdown",
   "metadata": {},
   "source": [
    "Cara memaknai nilai korelasi:\n",
    "- Semakin mendekati 0, semakin dua kolom tidak berkorelasi. \n",
    "- Semakin mendekati 1, semakin dua kolom berbanding lurus. \n",
    "- Semakin mendekati -1, semakin dua kolom berbanding terbalik.\n",
    "Karena nilai korelasi antara nilai Fiika dan nilai Kimia mendekati 1, maka kedua cenderung berbanding lurus."
   ]
  }
 ],
 "metadata": {
  "kernelspec": {
   "display_name": "base",
   "language": "python",
   "name": "python3"
  },
  "language_info": {
   "codemirror_mode": {
    "name": "ipython",
    "version": 3
   },
   "file_extension": ".py",
   "mimetype": "text/x-python",
   "name": "python",
   "nbconvert_exporter": "python",
   "pygments_lexer": "ipython3",
   "version": "3.11.5"
  }
 },
 "nbformat": 4,
 "nbformat_minor": 2
}
