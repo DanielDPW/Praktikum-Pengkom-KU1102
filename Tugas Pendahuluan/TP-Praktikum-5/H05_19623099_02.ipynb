{
 "cells": [
  {
   "cell_type": "code",
   "execution_count": null,
   "metadata": {},
   "outputs": [],
   "source": [
    "# NIM/Nama  :   Daniel Pedrosa Wu\n",
    "# Tanggal   :   10 November 2023\n",
    "# Deskripsi :   Problem 02 TP Modul 5"
   ]
  },
  {
   "cell_type": "markdown",
   "metadata": {},
   "source": [
    "Mengimport Pandas dan membuat dataframe dengan nama 'df' yang membaca \"H05.csv\""
   ]
  },
  {
   "cell_type": "code",
   "execution_count": 2,
   "metadata": {},
   "outputs": [],
   "source": [
    "import pandas as pd\n",
    "df = pd.read_csv(\"H05.csv\")"
   ]
  },
  {
   "cell_type": "markdown",
   "metadata": {},
   "source": [
    "1. Nilai Matematika, Fisika, dan Kimia milik Tuan Ric."
   ]
  },
  {
   "cell_type": "code",
   "execution_count": 11,
   "metadata": {},
   "outputs": [
    {
     "name": "stdout",
     "output_type": "stream",
     "text": [
      "Nilai Matematika Tuan Ric adalah 96.78\n",
      "Nilai Fisika Tuan Ric adalah 30.53\n",
      "Nilai Kimia Tuan Ric adalah 62.23\n"
     ]
    }
   ],
   "source": [
    "print(\"Nilai Matematika Tuan Ric adalah\", df.loc[df[\"nama\"] == \"Tuan Ric\", \"nilai_mat\"].to_string(index = False))\n",
    "print(\"Nilai Fisika Tuan Ric adalah\", df.loc[df[\"nama\"] == \"Tuan Ric\", \"nilai_fis\"].to_string(index = False))\n",
    "print(\"Nilai Kimia Tuan Ric adalah\", df.loc[df[\"nama\"] == \"Tuan Ric\", \"nilai_kim\"].to_string(index = False))"
   ]
  },
  {
   "cell_type": "markdown",
   "metadata": {},
   "source": [
    "2. Mahasiswa dengan nilai Fisika tertinggi."
   ]
  },
  {
   "cell_type": "code",
   "execution_count": 5,
   "metadata": {},
   "outputs": [
    {
     "name": "stdout",
     "output_type": "stream",
     "text": [
      "Mahasiswa dengan nilai Fisika tertinggi:\n",
      "Yuniar Fazriani Rusmana\n"
     ]
    }
   ],
   "source": [
    "dffismax = df.loc[df[\"nilai_fis\"] == df[\"nilai_fis\"].max()]\n",
    "print(\"Mahasiswa dengan nilai Fisika tertinggi:\")\n",
    "print(dffismax[\"nama\"].to_string(index = False))"
   ]
  },
  {
   "cell_type": "markdown",
   "metadata": {},
   "source": [
    "3. 10 Mahasiswa dengan nilai Kimia tertinggi."
   ]
  },
  {
   "cell_type": "code",
   "execution_count": 13,
   "metadata": {},
   "outputs": [
    {
     "name": "stdout",
     "output_type": "stream",
     "text": [
      "10 mahasiswa dengan nilai Kimia tertinggi:\n",
      "    Faathir Reza Avicena\n",
      "    Dinda A A Z Mundakir\n",
      "      Tammya Ayu Purnomo\n",
      "  Alyssa Nadhira Windari\n",
      "        Izni Nur Ibrahim\n",
      "    Rinaldi Oky Setiawan\n",
      "    Ias Azhari Rezkyarno\n",
      "         Klara Petra T T\n",
      "Naudy Germanimo Laksmana\n",
      "     Mardliyahtur Rohmah\n"
     ]
    }
   ],
   "source": [
    "dfkim = df.sort_values([\"nilai_kim\"], ascending = [0])\n",
    "print(\"10 mahasiswa dengan nilai Kimia tertinggi:\")\n",
    "print(dfkim[\"nama\"].head(10).to_string(index = False))"
   ]
  },
  {
   "cell_type": "markdown",
   "metadata": {},
   "source": [
    "4. Banyaknya nilai Matematika di bawah 50."
   ]
  },
  {
   "cell_type": "code",
   "execution_count": 14,
   "metadata": {},
   "outputs": [
    {
     "name": "stdout",
     "output_type": "stream",
     "text": [
      "Banyaknya nilai Matematika di bawah 50 adalah 329\n"
     ]
    }
   ],
   "source": [
    "dfmat = df.loc[df[\"nilai_mat\"] < 50]\n",
    "print(\"Banyaknya nilai Matematika di bawah 50 adalah\", len(dfmat))"
   ]
  },
  {
   "cell_type": "markdown",
   "metadata": {},
   "source": [
    "5. Banyaknya mahasiswa FMIPA."
   ]
  },
  {
   "cell_type": "code",
   "execution_count": 15,
   "metadata": {},
   "outputs": [
    {
     "name": "stdout",
     "output_type": "stream",
     "text": [
      "Banyaknya mahasiswa FMIPA adalah 627\n"
     ]
    }
   ],
   "source": [
    "dffakmat = df.loc[df[\"fakultas\"] == \"FMIPA\"]\n",
    "print(\"Banyaknya mahasiswa FMIPA adalah\", len(dffakmat))"
   ]
  }
 ],
 "metadata": {
  "kernelspec": {
   "display_name": "base",
   "language": "python",
   "name": "python3"
  },
  "language_info": {
   "codemirror_mode": {
    "name": "ipython",
    "version": 3
   },
   "file_extension": ".py",
   "mimetype": "text/x-python",
   "name": "python",
   "nbconvert_exporter": "python",
   "pygments_lexer": "ipython3",
   "version": "3.11.5"
  }
 },
 "nbformat": 4,
 "nbformat_minor": 2
}
