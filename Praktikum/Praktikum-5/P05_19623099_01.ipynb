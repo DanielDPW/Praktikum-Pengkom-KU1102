{
 "cells": [
  {
   "cell_type": "code",
   "execution_count": 1,
   "metadata": {},
   "outputs": [],
   "source": [
    "# NIM/Nama  :   Daniel Pedrosa Wu\n",
    "# Tanggal   :   16 November 2023\n",
    "# Deskripsi :   Problem 01 Modul 5"
   ]
  },
  {
   "cell_type": "code",
   "execution_count": 2,
   "metadata": {},
   "outputs": [],
   "source": [
    "import pandas as pd\n",
    "df = pd.read_csv('P05-03.csv')"
   ]
  },
  {
   "cell_type": "code",
   "execution_count": 3,
   "metadata": {},
   "outputs": [
    {
     "name": "stdout",
     "output_type": "stream",
     "text": [
      "neighbourhood_group\n",
      "Central Region       6309\n",
      "West Region           540\n",
      "East Region           508\n",
      "North-East Region     346\n",
      "North Region          204\n"
     ]
    }
   ],
   "source": [
    "print(df['neighbourhood_group'].value_counts().to_string())"
   ]
  },
  {
   "cell_type": "code",
   "execution_count": 4,
   "metadata": {},
   "outputs": [
    {
     "name": "stdout",
     "output_type": "stream",
     "text": [
      "          id                              name  host_id host_name neighbourhood_group neighbourhood  latitude  longitude        room_type  price  minimum_nights  number_of_reviews last_review  reviews_per_month  calculated_host_listings_count  availability_365\n",
      "132  2129215  Luxuriously Spacious Studio Apt.  7642747   Shirley         East Region         Bedok   1.32122  103.91492  Entire home/apt    139               2                323  2019-08-22               4.72                               1               239\n"
     ]
    }
   ],
   "source": [
    "reviewmax = df['number_of_reviews'].max()\n",
    "print(df.loc[df['number_of_reviews'] == reviewmax].to_string())"
   ]
  },
  {
   "cell_type": "code",
   "execution_count": 5,
   "metadata": {},
   "outputs": [
    {
     "name": "stdout",
     "output_type": "stream",
     "text": [
      "            id                                                name    host_id host_name neighbourhood_group  neighbourhood  latitude  longitude        room_type  price  minimum_nights  number_of_reviews last_review  reviews_per_month  calculated_host_listings_count  availability_365\n",
      "2766  19751695      Newly Refurbished Private Room @ Sembawang MRT   15035611      Anna        North Region      Sembawang   1.45111  103.82765     Private room     87               1                  7  2017-12-16               0.28                               1                 0\n",
      "6674  34244096  B1 • Minimalistic Room 5mins Train To MBS And City    3234859        Sk      Central Region         Rochor   1.30324  103.86057     Private room    110               1                  8  2019-08-17               2.31                               9               138\n",
      "2183  16640229                  Brand New Cosy 2-Bedroom Apartment  109931020      Nyah      Central Region  Marine Parade   1.30101  103.89784  Entire home/apt    269               1                  1  2017-01-20               0.03                               1                 0\n",
      "4640  28116713                     Terrace House @ Thomson Village   25375339        ｼﾝ      Central Region         Bishan   1.35389  103.83230  Entire home/apt    500               1                  0         NaN                NaN                               9               365\n",
      "4639  28116308  Masteroom (bath) @ Terrace House @ Thomson Village   25375339        ｼﾝ      Central Region         Bishan   1.35266  103.83360     Private room     81               1                  1  2018-10-03               0.09                               9               362\n"
     ]
    }
   ],
   "source": [
    "print(df.sort_values(['minimum_nights'], ascending = [1]).head(5).to_string())"
   ]
  },
  {
   "cell_type": "code",
   "execution_count": 6,
   "metadata": {},
   "outputs": [
    {
     "name": "stdout",
     "output_type": "stream",
     "text": [
      "            id                                              name   host_id host_name neighbourhood_group neighbourhood  latitude  longitude     room_type  price  minimum_nights  number_of_reviews last_review  reviews_per_month  calculated_host_listings_count  availability_365\n",
      "1890  15351390               Private Room near Paya Lebar&Dakota  78386666     Jayce      Central Region       Geylang   1.31150  103.89015  Private room     62               2                  0         NaN                NaN                               6                 0\n",
      "1950  15712633                  Private Room near Paya Lebar MRT  78386666     Jayce      Central Region       Geylang   1.31476  103.88913  Private room     53               1                 15  2018-10-03               0.45                               6                 0\n",
      "2007  16027385        Private Common Room at near Paya Lebar MRT  78386666     Jayce      Central Region       Geylang   1.31728  103.88995  Private room     56               2                  5  2018-04-30               0.17                               6                 0\n",
      "2351  17677387          Private Master Room with attach bathroom  78386666     Jayce      Central Region       Geylang   1.31650  103.88944  Private room     56               1                  2  2018-02-04               0.10                               6                 0\n",
      "2513  18443344  Private Master Room w/Own Bathroom at paya lebar  78386666     Jayce      Central Region       Geylang   1.31449  103.89031  Private room     56               2                  5  2019-01-01               0.29                               6                 0\n",
      "2901  20446077               The condo common room at dakota mrt  78386666     Jayce      Central Region       Geylang   1.31193  103.88905  Private room     49               2                  1  2018-01-23               0.05                               6                 0\n"
     ]
    }
   ],
   "source": [
    "print(df.loc[df['host_name'] == 'Jayce'].to_string())"
   ]
  },
  {
   "cell_type": "code",
   "execution_count": 7,
   "metadata": {},
   "outputs": [
    {
     "name": "stdout",
     "output_type": "stream",
     "text": [
      "-0.1394693387693145\n"
     ]
    }
   ],
   "source": [
    "print(df['reviews_per_month'].corr(df['minimum_nights']))\n",
    "# Korelasi mendekati 0 sehingga dua kolom tidak berkolerasi"
   ]
  }
 ],
 "metadata": {
  "kernelspec": {
   "display_name": "base",
   "language": "python",
   "name": "python3"
  },
  "language_info": {
   "codemirror_mode": {
    "name": "ipython",
    "version": 3
   },
   "file_extension": ".py",
   "mimetype": "text/x-python",
   "name": "python",
   "nbconvert_exporter": "python",
   "pygments_lexer": "ipython3",
   "version": "3.11.5"
  }
 },
 "nbformat": 4,
 "nbformat_minor": 2
}
